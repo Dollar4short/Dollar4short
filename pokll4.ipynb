{
  "nbformat": 4,
  "nbformat_minor": 0,
  "metadata": {
    "colab": {
      "provenance": [],
      "authorship_tag": "ABX9TyNZHPU1MI/xrcwqgAbFZiCW",
      "include_colab_link": true
    },
    "kernelspec": {
      "name": "ir",
      "display_name": "R"
    },
    "language_info": {
      "name": "R"
    }
  },
  "cells": [
    {
      "cell_type": "markdown",
      "metadata": {
        "id": "view-in-github",
        "colab_type": "text"
      },
      "source": [
        "<a href=\"https://colab.research.google.com/github/Dollar4short/Dollar4short/blob/main/pokll4.ipynb\" target=\"_parent\"><img src=\"https://colab.research.google.com/assets/colab-badge.svg\" alt=\"Open In Colab\"/></a>"
      ]
    },
    {
      "cell_type": "code",
      "execution_count": 30,
      "metadata": {
        "id": "hEGZzKIkhG6j",
        "colab": {
          "base_uri": "https://localhost:8080/",
          "height": 1000
        },
        "outputId": "f2da7489-2457-4b32-ff58-ab6e4b24567d"
      },
      "outputs": [
        {
          "output_type": "display_data",
          "data": {
            "text/html": [
              "<table class=\"dataframe\">\n",
              "<caption>A data.frame: 10 × 16</caption>\n",
              "<thead>\n",
              "\t<tr><th></th><th scope=col>gender</th><th scope=col>age</th><th scope=col>education</th><th scope=col>currentSmoker</th><th scope=col>cigsPerDay</th><th scope=col>BPMeds</th><th scope=col>prevalentStroke</th><th scope=col>prevalentHyp</th><th scope=col>diabetes</th><th scope=col>totChol</th><th scope=col>sysBP</th><th scope=col>diaBP</th><th scope=col>BMI</th><th scope=col>heartRate</th><th scope=col>glucose</th><th scope=col>TenYearCHD</th></tr>\n",
              "\t<tr><th></th><th scope=col>&lt;int&gt;</th><th scope=col>&lt;int&gt;</th><th scope=col>&lt;int&gt;</th><th scope=col>&lt;int&gt;</th><th scope=col>&lt;int&gt;</th><th scope=col>&lt;int&gt;</th><th scope=col>&lt;int&gt;</th><th scope=col>&lt;int&gt;</th><th scope=col>&lt;int&gt;</th><th scope=col>&lt;int&gt;</th><th scope=col>&lt;dbl&gt;</th><th scope=col>&lt;dbl&gt;</th><th scope=col>&lt;dbl&gt;</th><th scope=col>&lt;int&gt;</th><th scope=col>&lt;int&gt;</th><th scope=col>&lt;int&gt;</th></tr>\n",
              "</thead>\n",
              "<tbody>\n",
              "\t<tr><th scope=row>1</th><td>0</td><td>36</td><td>3</td><td>0</td><td> 0</td><td>0</td><td>0</td><td>0</td><td>0</td><td>188</td><td>112</td><td> 78.0</td><td>22.54</td><td> 63</td><td>73</td><td>0</td></tr>\n",
              "\t<tr><th scope=row>2</th><td>0</td><td>61</td><td>1</td><td>1</td><td> 6</td><td>0</td><td>0</td><td>1</td><td>0</td><td>290</td><td>178</td><td> 91.0</td><td>28.87</td><td>110</td><td>80</td><td>0</td></tr>\n",
              "\t<tr><th scope=row>3</th><td>0</td><td>48</td><td>2</td><td>0</td><td> 0</td><td>0</td><td>0</td><td>1</td><td>0</td><td>211</td><td>149</td><td>100.0</td><td>30.91</td><td> 78</td><td>62</td><td>0</td></tr>\n",
              "\t<tr><th scope=row>4</th><td>0</td><td>60</td><td>1</td><td>0</td><td> 0</td><td>0</td><td>0</td><td>1</td><td>0</td><td>212</td><td>146</td><td> 80.0</td><td>28.53</td><td> 95</td><td>72</td><td>1</td></tr>\n",
              "\t<tr><th scope=row>5</th><td>0</td><td>43</td><td>2</td><td>1</td><td> 2</td><td>0</td><td>0</td><td>0</td><td>0</td><td>213</td><td>113</td><td> 77.0</td><td>29.34</td><td>100</td><td>73</td><td>0</td></tr>\n",
              "\t<tr><th scope=row>6</th><td>0</td><td>51</td><td>2</td><td>0</td><td> 0</td><td>0</td><td>0</td><td>0</td><td>0</td><td>284</td><td>132</td><td> 78.0</td><td>21.94</td><td> 68</td><td>94</td><td>1</td></tr>\n",
              "\t<tr><th scope=row>7</th><td>1</td><td>58</td><td>2</td><td>1</td><td>20</td><td>0</td><td>0</td><td>0</td><td>0</td><td>220</td><td>129</td><td> 82.0</td><td>26.33</td><td> 72</td><td>80</td><td>1</td></tr>\n",
              "\t<tr><th scope=row>8</th><td>0</td><td>61</td><td>1</td><td>1</td><td>20</td><td>0</td><td>0</td><td>1</td><td>0</td><td>245</td><td>140</td><td> 73.0</td><td>30.74</td><td> 90</td><td>91</td><td>1</td></tr>\n",
              "\t<tr><th scope=row>9</th><td>0</td><td>42</td><td>2</td><td>1</td><td>30</td><td>0</td><td>0</td><td>0</td><td>0</td><td>190</td><td>108</td><td> 70.5</td><td>21.59</td><td> 72</td><td>85</td><td>0</td></tr>\n",
              "\t<tr><th scope=row>10</th><td>0</td><td>63</td><td>1</td><td>0</td><td> 0</td><td>0</td><td>0</td><td>1</td><td>0</td><td>306</td><td>195</td><td>105.0</td><td>27.96</td><td> 75</td><td>87</td><td>1</td></tr>\n",
              "</tbody>\n",
              "</table>\n"
            ],
            "text/markdown": "\nA data.frame: 10 × 16\n\n| <!--/--> | gender &lt;int&gt; | age &lt;int&gt; | education &lt;int&gt; | currentSmoker &lt;int&gt; | cigsPerDay &lt;int&gt; | BPMeds &lt;int&gt; | prevalentStroke &lt;int&gt; | prevalentHyp &lt;int&gt; | diabetes &lt;int&gt; | totChol &lt;int&gt; | sysBP &lt;dbl&gt; | diaBP &lt;dbl&gt; | BMI &lt;dbl&gt; | heartRate &lt;int&gt; | glucose &lt;int&gt; | TenYearCHD &lt;int&gt; |\n|---|---|---|---|---|---|---|---|---|---|---|---|---|---|---|---|---|\n| 1 | 0 | 36 | 3 | 0 |  0 | 0 | 0 | 0 | 0 | 188 | 112 |  78.0 | 22.54 |  63 | 73 | 0 |\n| 2 | 0 | 61 | 1 | 1 |  6 | 0 | 0 | 1 | 0 | 290 | 178 |  91.0 | 28.87 | 110 | 80 | 0 |\n| 3 | 0 | 48 | 2 | 0 |  0 | 0 | 0 | 1 | 0 | 211 | 149 | 100.0 | 30.91 |  78 | 62 | 0 |\n| 4 | 0 | 60 | 1 | 0 |  0 | 0 | 0 | 1 | 0 | 212 | 146 |  80.0 | 28.53 |  95 | 72 | 1 |\n| 5 | 0 | 43 | 2 | 1 |  2 | 0 | 0 | 0 | 0 | 213 | 113 |  77.0 | 29.34 | 100 | 73 | 0 |\n| 6 | 0 | 51 | 2 | 0 |  0 | 0 | 0 | 0 | 0 | 284 | 132 |  78.0 | 21.94 |  68 | 94 | 1 |\n| 7 | 1 | 58 | 2 | 1 | 20 | 0 | 0 | 0 | 0 | 220 | 129 |  82.0 | 26.33 |  72 | 80 | 1 |\n| 8 | 0 | 61 | 1 | 1 | 20 | 0 | 0 | 1 | 0 | 245 | 140 |  73.0 | 30.74 |  90 | 91 | 1 |\n| 9 | 0 | 42 | 2 | 1 | 30 | 0 | 0 | 0 | 0 | 190 | 108 |  70.5 | 21.59 |  72 | 85 | 0 |\n| 10 | 0 | 63 | 1 | 0 |  0 | 0 | 0 | 1 | 0 | 306 | 195 | 105.0 | 27.96 |  75 | 87 | 1 |\n\n",
            "text/latex": "A data.frame: 10 × 16\n\\begin{tabular}{r|llllllllllllllll}\n  & gender & age & education & currentSmoker & cigsPerDay & BPMeds & prevalentStroke & prevalentHyp & diabetes & totChol & sysBP & diaBP & BMI & heartRate & glucose & TenYearCHD\\\\\n  & <int> & <int> & <int> & <int> & <int> & <int> & <int> & <int> & <int> & <int> & <dbl> & <dbl> & <dbl> & <int> & <int> & <int>\\\\\n\\hline\n\t1 & 0 & 36 & 3 & 0 &  0 & 0 & 0 & 0 & 0 & 188 & 112 &  78.0 & 22.54 &  63 & 73 & 0\\\\\n\t2 & 0 & 61 & 1 & 1 &  6 & 0 & 0 & 1 & 0 & 290 & 178 &  91.0 & 28.87 & 110 & 80 & 0\\\\\n\t3 & 0 & 48 & 2 & 0 &  0 & 0 & 0 & 1 & 0 & 211 & 149 & 100.0 & 30.91 &  78 & 62 & 0\\\\\n\t4 & 0 & 60 & 1 & 0 &  0 & 0 & 0 & 1 & 0 & 212 & 146 &  80.0 & 28.53 &  95 & 72 & 1\\\\\n\t5 & 0 & 43 & 2 & 1 &  2 & 0 & 0 & 0 & 0 & 213 & 113 &  77.0 & 29.34 & 100 & 73 & 0\\\\\n\t6 & 0 & 51 & 2 & 0 &  0 & 0 & 0 & 0 & 0 & 284 & 132 &  78.0 & 21.94 &  68 & 94 & 1\\\\\n\t7 & 1 & 58 & 2 & 1 & 20 & 0 & 0 & 0 & 0 & 220 & 129 &  82.0 & 26.33 &  72 & 80 & 1\\\\\n\t8 & 0 & 61 & 1 & 1 & 20 & 0 & 0 & 1 & 0 & 245 & 140 &  73.0 & 30.74 &  90 & 91 & 1\\\\\n\t9 & 0 & 42 & 2 & 1 & 30 & 0 & 0 & 0 & 0 & 190 & 108 &  70.5 & 21.59 &  72 & 85 & 0\\\\\n\t10 & 0 & 63 & 1 & 0 &  0 & 0 & 0 & 1 & 0 & 306 & 195 & 105.0 & 27.96 &  75 & 87 & 1\\\\\n\\end{tabular}\n",
            "text/plain": [
              "   gender age education currentSmoker cigsPerDay BPMeds prevalentStroke\n",
              "1  0      36  3         0              0         0      0              \n",
              "2  0      61  1         1              6         0      0              \n",
              "3  0      48  2         0              0         0      0              \n",
              "4  0      60  1         0              0         0      0              \n",
              "5  0      43  2         1              2         0      0              \n",
              "6  0      51  2         0              0         0      0              \n",
              "7  1      58  2         1             20         0      0              \n",
              "8  0      61  1         1             20         0      0              \n",
              "9  0      42  2         1             30         0      0              \n",
              "10 0      63  1         0              0         0      0              \n",
              "   prevalentHyp diabetes totChol sysBP diaBP BMI   heartRate glucose TenYearCHD\n",
              "1  0            0        188     112    78.0 22.54  63       73      0         \n",
              "2  1            0        290     178    91.0 28.87 110       80      0         \n",
              "3  1            0        211     149   100.0 30.91  78       62      0         \n",
              "4  1            0        212     146    80.0 28.53  95       72      1         \n",
              "5  0            0        213     113    77.0 29.34 100       73      0         \n",
              "6  0            0        284     132    78.0 21.94  68       94      1         \n",
              "7  0            0        220     129    82.0 26.33  72       80      1         \n",
              "8  1            0        245     140    73.0 30.74  90       91      1         \n",
              "9  0            0        190     108    70.5 21.59  72       85      0         \n",
              "10 1            0        306     195   105.0 27.96  75       87      1         "
            ]
          },
          "metadata": {}
        },
        {
          "output_type": "stream",
          "name": "stdout",
          "text": [
            "'data.frame':\t1255 obs. of  16 variables:\n",
            " $ gender         : int  0 0 0 0 0 0 1 0 0 0 ...\n",
            " $ age            : int  36 61 48 60 43 51 58 61 42 63 ...\n",
            " $ education      : int  3 1 2 1 2 2 2 1 2 1 ...\n",
            " $ currentSmoker  : int  0 1 0 0 1 0 1 1 1 0 ...\n",
            " $ cigsPerDay     : int  0 6 0 0 2 0 20 20 30 0 ...\n",
            " $ BPMeds         : int  0 0 0 0 0 0 0 0 0 0 ...\n",
            " $ prevalentStroke: int  0 0 0 0 0 0 0 0 0 0 ...\n",
            " $ prevalentHyp   : int  0 1 1 1 0 0 0 1 0 1 ...\n",
            " $ diabetes       : int  0 0 0 0 0 0 0 0 0 0 ...\n",
            " $ totChol        : int  188 290 211 212 213 284 220 245 190 306 ...\n",
            " $ sysBP          : num  112 178 149 146 113 132 129 140 108 195 ...\n",
            " $ diaBP          : num  78 91 100 80 77 78 82 73 70.5 105 ...\n",
            " $ BMI            : num  22.5 28.9 30.9 28.5 29.3 ...\n",
            " $ heartRate      : int  63 110 78 95 100 68 72 90 72 75 ...\n",
            " $ glucose        : int  73 80 62 72 73 94 80 91 85 87 ...\n",
            " $ TenYearCHD     : int  0 0 0 1 0 1 1 1 0 1 ...\n"
          ]
        },
        {
          "output_type": "display_data",
          "data": {
            "text/plain": [
              "     gender            age          education     currentSmoker   \n",
              " Min.   :0.0000   Min.   :34.00   Min.   :1.000   Min.   :0.0000  \n",
              " 1st Qu.:0.0000   1st Qu.:43.00   1st Qu.:1.000   1st Qu.:0.0000  \n",
              " Median :0.0000   Median :50.00   Median :2.000   Median :0.0000  \n",
              " Mean   :0.4701   Mean   :50.61   Mean   :1.948   Mean   :0.4805  \n",
              " 3rd Qu.:1.0000   3rd Qu.:58.00   3rd Qu.:3.000   3rd Qu.:1.0000  \n",
              " Max.   :1.0000   Max.   :69.00   Max.   :4.000   Max.   :1.0000  \n",
              "   cigsPerDay         BPMeds        prevalentStroke     prevalentHyp   \n",
              " Min.   : 0.000   Min.   :0.00000   Min.   :0.000000   Min.   :0.0000  \n",
              " 1st Qu.: 0.000   1st Qu.:0.00000   1st Qu.:0.000000   1st Qu.:0.0000  \n",
              " Median : 0.000   Median :0.00000   Median :0.000000   Median :0.0000  \n",
              " Mean   : 9.037   Mean   :0.04303   Mean   :0.007968   Mean   :0.3538  \n",
              " 3rd Qu.:20.000   3rd Qu.:0.00000   3rd Qu.:0.000000   3rd Qu.:1.0000  \n",
              " Max.   :70.000   Max.   :1.00000   Max.   :1.000000   Max.   :1.0000  \n",
              "    diabetes          totChol          sysBP           diaBP      \n",
              " Min.   :0.00000   Min.   :133.0   Min.   : 83.5   Min.   : 48.0  \n",
              " 1st Qu.:0.00000   1st Qu.:208.0   1st Qu.:118.0   1st Qu.: 75.0  \n",
              " Median :0.00000   Median :235.0   Median :130.0   Median : 82.5  \n",
              " Mean   :0.03267   Mean   :239.3   Mean   :134.6   Mean   : 84.0  \n",
              " 3rd Qu.:0.00000   3rd Qu.:266.0   3rd Qu.:146.2   3rd Qu.: 91.0  \n",
              " Max.   :1.00000   Max.   :600.0   Max.   :248.0   Max.   :140.0  \n",
              "      BMI          heartRate         glucose         TenYearCHD    \n",
              " Min.   :15.54   Min.   : 45.00   Min.   : 40.00   Min.   :0.0000  \n",
              " 1st Qu.:23.10   1st Qu.: 67.00   1st Qu.: 72.00   1st Qu.:0.0000  \n",
              " Median :25.62   Median : 75.00   Median : 79.00   Median :0.0000  \n",
              " Mean   :25.99   Mean   : 75.75   Mean   : 84.12   Mean   :0.3108  \n",
              " 3rd Qu.:28.38   3rd Qu.: 83.00   3rd Qu.: 87.00   3rd Qu.:1.0000  \n",
              " Max.   :56.80   Max.   :143.00   Max.   :394.00   Max.   :1.0000  "
            ]
          },
          "metadata": {}
        }
      ],
      "source": [
        "heart_data1 = read.csv('/content/framing_new_train.csv')\n",
        "head(heart_data1, 10)\n",
        "library(dplyr)\n",
        "str(heart_data1)\n",
        "summary(heart_data1)\n",
        "library(ggplot2)\n"
      ]
    },
    {
      "cell_type": "code",
      "source": [
        "#Data Preprocessing\n",
        "hist(heart_data1$TenYearCHD)\n",
        "#quick multicollinearity check\n",
        "cor(heart_data1$TenYearCHD,heart_data1[1:16])\n"
      ],
      "metadata": {
        "colab": {
          "base_uri": "https://localhost:8080/",
          "height": 538
        },
        "id": "fiyvycXqhdf1",
        "outputId": "de4b9d14-b0cd-4b65-a902-62da4202e66b"
      },
      "execution_count": 31,
      "outputs": [
        {
          "output_type": "display_data",
          "data": {
            "text/html": [
              "<table class=\"dataframe\">\n",
              "<caption>A matrix: 1 × 16 of type dbl</caption>\n",
              "<thead>\n",
              "\t<tr><th scope=col>gender</th><th scope=col>age</th><th scope=col>education</th><th scope=col>currentSmoker</th><th scope=col>cigsPerDay</th><th scope=col>BPMeds</th><th scope=col>prevalentStroke</th><th scope=col>prevalentHyp</th><th scope=col>diabetes</th><th scope=col>totChol</th><th scope=col>sysBP</th><th scope=col>diaBP</th><th scope=col>BMI</th><th scope=col>heartRate</th><th scope=col>glucose</th><th scope=col>TenYearCHD</th></tr>\n",
              "</thead>\n",
              "<tbody>\n",
              "\t<tr><td>0.07124556</td><td>0.2933295</td><td>-0.08193732</td><td>0.01245244</td><td>0.03741</td><td>0.0867059</td><td>0.07537712</td><td>0.2161353</td><td>0.1380989</td><td>0.1213945</td><td>0.2719354</td><td>0.1655731</td><td>0.1032386</td><td>0.02379468</td><td>0.1188959</td><td>1</td></tr>\n",
              "</tbody>\n",
              "</table>\n"
            ],
            "text/markdown": "\nA matrix: 1 × 16 of type dbl\n\n| gender | age | education | currentSmoker | cigsPerDay | BPMeds | prevalentStroke | prevalentHyp | diabetes | totChol | sysBP | diaBP | BMI | heartRate | glucose | TenYearCHD |\n|---|---|---|---|---|---|---|---|---|---|---|---|---|---|---|---|\n| 0.07124556 | 0.2933295 | -0.08193732 | 0.01245244 | 0.03741 | 0.0867059 | 0.07537712 | 0.2161353 | 0.1380989 | 0.1213945 | 0.2719354 | 0.1655731 | 0.1032386 | 0.02379468 | 0.1188959 | 1 |\n\n",
            "text/latex": "A matrix: 1 × 16 of type dbl\n\\begin{tabular}{llllllllllllllll}\n gender & age & education & currentSmoker & cigsPerDay & BPMeds & prevalentStroke & prevalentHyp & diabetes & totChol & sysBP & diaBP & BMI & heartRate & glucose & TenYearCHD\\\\\n\\hline\n\t 0.07124556 & 0.2933295 & -0.08193732 & 0.01245244 & 0.03741 & 0.0867059 & 0.07537712 & 0.2161353 & 0.1380989 & 0.1213945 & 0.2719354 & 0.1655731 & 0.1032386 & 0.02379468 & 0.1188959 & 1\\\\\n\\end{tabular}\n",
            "text/plain": [
              "     gender     age       education   currentSmoker cigsPerDay BPMeds   \n",
              "[1,] 0.07124556 0.2933295 -0.08193732 0.01245244    0.03741    0.0867059\n",
              "     prevalentStroke prevalentHyp diabetes  totChol   sysBP     diaBP    \n",
              "[1,] 0.07537712      0.2161353    0.1380989 0.1213945 0.2719354 0.1655731\n",
              "     BMI       heartRate  glucose   TenYearCHD\n",
              "[1,] 0.1032386 0.02379468 0.1188959 1         "
            ]
          },
          "metadata": {}
        },
        {
          "output_type": "display_data",
          "data": {
            "text/plain": [
              "Plot with title “Histogram of heart_data1$TenYearCHD”"
            ],
            "image/png": "[encoded data removed]"
          },
          "metadata": {
            "image/png": {
              "width": 420,
              "height": 420
            }
          }
        }
      ]
    },
    {
      "cell_type": "code",
      "source": [],
      "metadata": {
        "id": "rAwIeA-txOMc"
      },
      "execution_count": null,
      "outputs": []
    },
    {
      "cell_type": "code",
      "source": [
        "#converting to factors\n",
        "heart_data1 %>% select(-c(age, cigsPerDay, education,totChol,sysBP, diaBP,BMI, heartRate, glucose)) -> heart_data23\n",
        "col_names <- names(heart_data23)\n",
        "col_names\n",
        "heart_data1[,col_names] <- lapply(heart_data23[,col_names], factor)\n"
      ],
      "metadata": {
        "colab": {
          "base_uri": "https://localhost:8080/",
          "height": 34
        },
        "id": "Y-yMlPSshwrC",
        "outputId": "ee13eb0b-9eed-430d-c451-76b1341b5002"
      },
      "execution_count": 32,
      "outputs": [
        {
          "output_type": "display_data",
          "data": {
            "text/html": [
              "<style>\n",
              ".list-inline {list-style: none; margin:0; padding: 0}\n",
              ".list-inline>li {display: inline-block}\n",
              ".list-inline>li:not(:last-child)::after {content: \"\\00b7\"; padding: 0 .5ex}\n",
              "</style>\n",
              "<ol class=list-inline><li>'gender'</li><li>'currentSmoker'</li><li>'BPMeds'</li><li>'prevalentStroke'</li><li>'prevalentHyp'</li><li>'diabetes'</li><li>'TenYearCHD'</li></ol>\n"
            ],
            "text/markdown": "1. 'gender'\n2. 'currentSmoker'\n3. 'BPMeds'\n4. 'prevalentStroke'\n5. 'prevalentHyp'\n6. 'diabetes'\n7. 'TenYearCHD'\n\n\n",
            "text/latex": "\\begin{enumerate*}\n\\item 'gender'\n\\item 'currentSmoker'\n\\item 'BPMeds'\n\\item 'prevalentStroke'\n\\item 'prevalentHyp'\n\\item 'diabetes'\n\\item 'TenYearCHD'\n\\end{enumerate*}\n",
            "text/plain": [
              "[1] \"gender\"          \"currentSmoker\"   \"BPMeds\"          \"prevalentStroke\"\n",
              "[5] \"prevalentHyp\"    \"diabetes\"        \"TenYearCHD\"     "
            ]
          },
          "metadata": {}
        }
      ]
    },
    {
      "cell_type": "code",
      "source": [
        "#fitting the base model\n",
        "glm(TenYearCHD~.,data=heart_data1,family=binomial(logit))->model\n",
        "#summary\n",
        "summary(model)\n",
        "model$coefficients\n",
        "heart_data1$TenYearCHDnew<- model$fitted.values\n",
        "head(heart_data1[c(\"TenYearCHD\",\"TenYearCHDnew\")], 10)\n",
        "tail(heart_data1[c(\"TenYearCHD\",\"TenYearCHDnew\")], 10)"
      ],
      "metadata": {
        "colab": {
          "base_uri": "https://localhost:8080/",
          "height": 1000
        },
        "id": "z3YQQ2jIh772",
        "outputId": "5e3d994f-205f-4ef3-b022-6ab0f4e97c4e"
      },
      "execution_count": 33,
      "outputs": [
        {
          "output_type": "display_data",
          "data": {
            "text/plain": [
              "\n",
              "Call:\n",
              "glm(formula = TenYearCHD ~ ., family = binomial(logit), data = heart_data1)\n",
              "\n",
              "Deviance Residuals: \n",
              "    Min       1Q   Median       3Q      Max  \n",
              "-1.9813  -0.8383  -0.5711   1.0438   2.4642  \n",
              "\n",
              "Coefficients:\n",
              "                   Estimate Std. Error z value Pr(>|z|)    \n",
              "(Intercept)      -7.0853466  0.9653112  -7.340 2.14e-13 ***\n",
              "gender1           0.3889573  0.1458116   2.668  0.00764 ** \n",
              "age               0.0613580  0.0092936   6.602 4.05e-11 ***\n",
              "education        -0.0524961  0.0665029  -0.789  0.42989    \n",
              "currentSmoker1    0.1521363  0.2106609   0.722  0.47018    \n",
              "cigsPerDay        0.0138331  0.0086014   1.608  0.10778    \n",
              "BPMeds1          -0.0401976  0.3235327  -0.124  0.90112    \n",
              "prevalentStroke1  1.1616497  0.7544601   1.540  0.12363    \n",
              "prevalentHyp1     0.1571986  0.1932542   0.813  0.41597    \n",
              "diabetes1         0.9421550  0.5009670   1.881  0.06002 .  \n",
              "totChol           0.0027492  0.0015261   1.801  0.07163 .  \n",
              "sysBP             0.0179187  0.0054807   3.269  0.00108 ** \n",
              "diaBP            -0.0085728  0.0089328  -0.960  0.33721    \n",
              "BMI               0.0183173  0.0173332   1.057  0.29061    \n",
              "heartRate        -0.0025399  0.0057506  -0.442  0.65872    \n",
              "glucose           0.0005564  0.0030596   0.182  0.85570    \n",
              "---\n",
              "Signif. codes:  0 ‘***’ 0.001 ‘**’ 0.01 ‘*’ 0.05 ‘.’ 0.1 ‘ ’ 1\n",
              "\n",
              "(Dispersion parameter for binomial family taken to be 1)\n",
              "\n",
              "    Null deviance: 1555.5  on 1254  degrees of freedom\n",
              "Residual deviance: 1367.4  on 1239  degrees of freedom\n",
              "AIC: 1399.4\n",
              "\n",
              "Number of Fisher Scoring iterations: 4\n"
            ]
          },
          "metadata": {}
        },
        {
          "output_type": "display_data",
          "data": {
            "text/html": [
              "<style>\n",
              ".dl-inline {width: auto; margin:0; padding: 0}\n",
              ".dl-inline>dt, .dl-inline>dd {float: none; width: auto; display: inline-block}\n",
              ".dl-inline>dt::after {content: \":\\0020\"; padding-right: .5ex}\n",
              ".dl-inline>dt:not(:first-of-type) {padding-left: .5ex}\n",
              "</style><dl class=dl-inline><dt>(Intercept)</dt><dd>-7.08534656561291</dd><dt>gender1</dt><dd>0.388957322970853</dd><dt>age</dt><dd>0.0613579597876747</dd><dt>education</dt><dd>-0.0524961070073061</dd><dt>currentSmoker1</dt><dd>0.152136302856123</dd><dt>cigsPerDay</dt><dd>0.0138330698912273</dd><dt>BPMeds1</dt><dd>-0.0401976369723819</dd><dt>prevalentStroke1</dt><dd>1.1616496568909</dd><dt>prevalentHyp1</dt><dd>0.157198578106581</dd><dt>diabetes1</dt><dd>0.942154972222046</dd><dt>totChol</dt><dd>0.00274919129595771</dd><dt>sysBP</dt><dd>0.0179186784174027</dd><dt>diaBP</dt><dd>-0.0085727770913131</dd><dt>BMI</dt><dd>0.0183173124677962</dd><dt>heartRate</dt><dd>-0.00253988627772652</dd><dt>glucose</dt><dd>0.000556384645323838</dd></dl>\n"
            ],
            "text/markdown": "(Intercept)\n:   -7.08534656561291gender1\n:   0.388957322970853age\n:   0.0613579597876747education\n:   -0.0524961070073061currentSmoker1\n:   0.152136302856123cigsPerDay\n:   0.0138330698912273BPMeds1\n:   -0.0401976369723819prevalentStroke1\n:   1.1616496568909prevalentHyp1\n:   0.157198578106581diabetes1\n:   0.942154972222046totChol\n:   0.00274919129595771sysBP\n:   0.0179186784174027diaBP\n:   -0.0085727770913131BMI\n:   0.0183173124677962heartRate\n:   -0.00253988627772652glucose\n:   0.000556384645323838\n\n",
            "text/latex": "\\begin{description*}\n\\item[(Intercept)] -7.08534656561291\n\\item[gender1] 0.388957322970853\n\\item[age] 0.0613579597876747\n\\item[education] -0.0524961070073061\n\\item[currentSmoker1] 0.152136302856123\n\\item[cigsPerDay] 0.0138330698912273\n\\item[BPMeds1] -0.0401976369723819\n\\item[prevalentStroke1] 1.1616496568909\n\\item[prevalentHyp1] 0.157198578106581\n\\item[diabetes1] 0.942154972222046\n\\item[totChol] 0.00274919129595771\n\\item[sysBP] 0.0179186784174027\n\\item[diaBP] -0.0085727770913131\n\\item[BMI] 0.0183173124677962\n\\item[heartRate] -0.00253988627772652\n\\item[glucose] 0.000556384645323838\n\\end{description*}\n",
            "text/plain": [
              "     (Intercept)          gender1              age        education \n",
              "   -7.0853465656     0.3889573230     0.0613579598    -0.0524961070 \n",
              "  currentSmoker1       cigsPerDay          BPMeds1 prevalentStroke1 \n",
              "    0.1521363029     0.0138330699    -0.0401976370     1.1616496569 \n",
              "   prevalentHyp1        diabetes1          totChol            sysBP \n",
              "    0.1571985781     0.9421549722     0.0027491913     0.0179186784 \n",
              "           diaBP              BMI        heartRate          glucose \n",
              "   -0.0085727771     0.0183173125    -0.0025398863     0.0005563846 "
            ]
          },
          "metadata": {}
        },
        {
          "output_type": "display_data",
          "data": {
            "text/html": [
              "<table class=\"dataframe\">\n",
              "<caption>A data.frame: 10 × 2</caption>\n",
              "<thead>\n",
              "\t<tr><th></th><th scope=col>TenYearCHD</th><th scope=col>TenYearCHDnew</th></tr>\n",
              "\t<tr><th></th><th scope=col>&lt;fct&gt;</th><th scope=col>&lt;dbl&gt;</th></tr>\n",
              "</thead>\n",
              "<tbody>\n",
              "\t<tr><th scope=row>1</th><td>0</td><td>0.05287955</td></tr>\n",
              "\t<tr><th scope=row>2</th><td>0</td><td>0.62197458</td></tr>\n",
              "\t<tr><th scope=row>3</th><td>0</td><td>0.21539607</td></tr>\n",
              "\t<tr><th scope=row>4</th><td>1</td><td>0.38587864</td></tr>\n",
              "\t<tr><th scope=row>5</th><td>0</td><td>0.10931063</td></tr>\n",
              "\t<tr><th scope=row>6</th><td>1</td><td>0.21378594</td></tr>\n",
              "\t<tr><th scope=row>7</th><td>1</td><td>0.43621828</td></tr>\n",
              "\t<tr><th scope=row>8</th><td>1</td><td>0.53306634</td></tr>\n",
              "\t<tr><th scope=row>9</th><td>0</td><td>0.12640768</td></tr>\n",
              "\t<tr><th scope=row>10</th><td>1</td><td>0.66601735</td></tr>\n",
              "</tbody>\n",
              "</table>\n"
            ],
            "text/markdown": "\nA data.frame: 10 × 2\n\n| <!--/--> | TenYearCHD &lt;fct&gt; | TenYearCHDnew &lt;dbl&gt; |\n|---|---|---|\n| 1 | 0 | 0.05287955 |\n| 2 | 0 | 0.62197458 |\n| 3 | 0 | 0.21539607 |\n| 4 | 1 | 0.38587864 |\n| 5 | 0 | 0.10931063 |\n| 6 | 1 | 0.21378594 |\n| 7 | 1 | 0.43621828 |\n| 8 | 1 | 0.53306634 |\n| 9 | 0 | 0.12640768 |\n| 10 | 1 | 0.66601735 |\n\n",
            "text/latex": "A data.frame: 10 × 2\n\\begin{tabular}{r|ll}\n  & TenYearCHD & TenYearCHDnew\\\\\n  & <fct> & <dbl>\\\\\n\\hline\n\t1 & 0 & 0.05287955\\\\\n\t2 & 0 & 0.62197458\\\\\n\t3 & 0 & 0.21539607\\\\\n\t4 & 1 & 0.38587864\\\\\n\t5 & 0 & 0.10931063\\\\\n\t6 & 1 & 0.21378594\\\\\n\t7 & 1 & 0.43621828\\\\\n\t8 & 1 & 0.53306634\\\\\n\t9 & 0 & 0.12640768\\\\\n\t10 & 1 & 0.66601735\\\\\n\\end{tabular}\n",
            "text/plain": [
              "   TenYearCHD TenYearCHDnew\n",
              "1  0          0.05287955   \n",
              "2  0          0.62197458   \n",
              "3  0          0.21539607   \n",
              "4  1          0.38587864   \n",
              "5  0          0.10931063   \n",
              "6  1          0.21378594   \n",
              "7  1          0.43621828   \n",
              "8  1          0.53306634   \n",
              "9  0          0.12640768   \n",
              "10 1          0.66601735   "
            ]
          },
          "metadata": {}
        },
        {
          "output_type": "display_data",
          "data": {
            "text/html": [
              "<table class=\"dataframe\">\n",
              "<caption>A data.frame: 10 × 2</caption>\n",
              "<thead>\n",
              "\t<tr><th></th><th scope=col>TenYearCHD</th><th scope=col>TenYearCHDnew</th></tr>\n",
              "\t<tr><th></th><th scope=col>&lt;fct&gt;</th><th scope=col>&lt;dbl&gt;</th></tr>\n",
              "</thead>\n",
              "<tbody>\n",
              "\t<tr><th scope=row>1246</th><td>0</td><td>0.0527715</td></tr>\n",
              "\t<tr><th scope=row>1247</th><td>1</td><td>0.5481776</td></tr>\n",
              "\t<tr><th scope=row>1248</th><td>1</td><td>0.4605875</td></tr>\n",
              "\t<tr><th scope=row>1249</th><td>0</td><td>0.1437522</td></tr>\n",
              "\t<tr><th scope=row>1250</th><td>1</td><td>0.9048406</td></tr>\n",
              "\t<tr><th scope=row>1251</th><td>0</td><td>0.1671766</td></tr>\n",
              "\t<tr><th scope=row>1252</th><td>0</td><td>0.0939486</td></tr>\n",
              "\t<tr><th scope=row>1253</th><td>1</td><td>0.3769205</td></tr>\n",
              "\t<tr><th scope=row>1254</th><td>0</td><td>0.3591211</td></tr>\n",
              "\t<tr><th scope=row>1255</th><td>0</td><td>0.3524904</td></tr>\n",
              "</tbody>\n",
              "</table>\n"
            ],
            "text/markdown": "\nA data.frame: 10 × 2\n\n| <!--/--> | TenYearCHD &lt;fct&gt; | TenYearCHDnew &lt;dbl&gt; |\n|---|---|---|\n| 1246 | 0 | 0.0527715 |\n| 1247 | 1 | 0.5481776 |\n| 1248 | 1 | 0.4605875 |\n| 1249 | 0 | 0.1437522 |\n| 1250 | 1 | 0.9048406 |\n| 1251 | 0 | 0.1671766 |\n| 1252 | 0 | 0.0939486 |\n| 1253 | 1 | 0.3769205 |\n| 1254 | 0 | 0.3591211 |\n| 1255 | 0 | 0.3524904 |\n\n",
            "text/latex": "A data.frame: 10 × 2\n\\begin{tabular}{r|ll}\n  & TenYearCHD & TenYearCHDnew\\\\\n  & <fct> & <dbl>\\\\\n\\hline\n\t1246 & 0 & 0.0527715\\\\\n\t1247 & 1 & 0.5481776\\\\\n\t1248 & 1 & 0.4605875\\\\\n\t1249 & 0 & 0.1437522\\\\\n\t1250 & 1 & 0.9048406\\\\\n\t1251 & 0 & 0.1671766\\\\\n\t1252 & 0 & 0.0939486\\\\\n\t1253 & 1 & 0.3769205\\\\\n\t1254 & 0 & 0.3591211\\\\\n\t1255 & 0 & 0.3524904\\\\\n\\end{tabular}\n",
            "text/plain": [
              "     TenYearCHD TenYearCHDnew\n",
              "1246 0          0.0527715    \n",
              "1247 1          0.5481776    \n",
              "1248 1          0.4605875    \n",
              "1249 0          0.1437522    \n",
              "1250 1          0.9048406    \n",
              "1251 0          0.1671766    \n",
              "1252 0          0.0939486    \n",
              "1253 1          0.3769205    \n",
              "1254 0          0.3591211    \n",
              "1255 0          0.3524904    "
            ]
          },
          "metadata": {}
        }
      ]
    },
    {
      "cell_type": "code",
      "source": [],
      "metadata": {
        "id": "B7_yctZqxKMN"
      },
      "execution_count": null,
      "outputs": []
    },
    {
      "cell_type": "code",
      "source": [
        "install.packages(\"caret\")"
      ],
      "metadata": {
        "colab": {
          "base_uri": "https://localhost:8080/"
        },
        "id": "wfD16bEniKEW",
        "outputId": "a2779a08-8316-4daa-d961-dc7c70cf8014"
      },
      "execution_count": 34,
      "outputs": [
        {
          "output_type": "stream",
          "name": "stderr",
          "text": [
            "Installing package into ‘/usr/local/lib/R/site-library’\n",
            "(as ‘lib’ is unspecified)\n",
            "\n",
            "Warning message in install.packages(\"caret\"):\n",
            "“installation of package ‘caret’ had non-zero exit status”\n"
          ]
        }
      ]
    },
    {
      "cell_type": "code",
      "source": [
        "library(caret)\n",
        "varImp(model)\n",
        "#refitting a lesser model for comparison\n",
        "heart_data1[c(\"gender\",\"age\",\"diabetes\",\"totChol\",\"sysBP\",\"TenYearCHD\")]->heart_data2\n",
        "head(heart_data2, 10)\n"
      ],
      "metadata": {
        "colab": {
          "base_uri": "https://localhost:8080/",
          "height": 918
        },
        "id": "sEFYdfQEkqzj",
        "outputId": "3f9b1256-4677-4215-bf41-c49a6e7ce32e"
      },
      "execution_count": 49,
      "outputs": [
        {
          "output_type": "display_data",
          "data": {
            "text/html": [
              "<style>\n",
              ".dl-inline {width: auto; margin:0; padding: 0}\n",
              ".dl-inline>dt, .dl-inline>dd {float: none; width: auto; display: inline-block}\n",
              ".dl-inline>dt::after {content: \":\\0020\"; padding-right: .5ex}\n",
              ".dl-inline>dt:not(:first-of-type) {padding-left: .5ex}\n",
              "</style><dl class=dl-inline><dt>age</dt><dd>6.60218977942214</dd><dt>sysBP</dt><dd>3.26942012412641</dd><dt>gender1</dt><dd>2.6675335317767</dd><dt>diabetes1</dt><dd>1.88067282728444</dd><dt>totChol</dt><dd>1.80145454200263</dd><dt>cigsPerDay</dt><dd>1.6082390122344</dd><dt>prevalentStroke1</dt><dd>1.5397097882915</dd><dt>BMI</dt><dd>1.05677423656848</dd><dt>diaBP</dt><dd>-0.959696914984531</dd><dt>prevalentHyp1</dt><dd>0.813428897956678</dd><dt>education</dt><dd>-0.78938090297993</dd><dt>currentSmoker1</dt><dd>0.722185592837597</dd><dt>heartRate</dt><dd>-0.441675627298499</dd><dt>glucose</dt><dd>0.181850341244489</dd><dt>BPMeds1</dt><dd>-0.124245967615015</dd></dl>\n"
            ],
            "text/markdown": "age\n:   6.60218977942214sysBP\n:   3.26942012412641gender1\n:   2.6675335317767diabetes1\n:   1.88067282728444totChol\n:   1.80145454200263cigsPerDay\n:   1.6082390122344prevalentStroke1\n:   1.5397097882915BMI\n:   1.05677423656848diaBP\n:   -0.959696914984531prevalentHyp1\n:   0.813428897956678education\n:   -0.78938090297993currentSmoker1\n:   0.722185592837597heartRate\n:   -0.441675627298499glucose\n:   0.181850341244489BPMeds1\n:   -0.124245967615015\n\n",
            "text/latex": "\\begin{description*}\n\\item[age] 6.60218977942214\n\\item[sysBP] 3.26942012412641\n\\item[gender1] 2.6675335317767\n\\item[diabetes1] 1.88067282728444\n\\item[totChol] 1.80145454200263\n\\item[cigsPerDay] 1.6082390122344\n\\item[prevalentStroke1] 1.5397097882915\n\\item[BMI] 1.05677423656848\n\\item[diaBP] -0.959696914984531\n\\item[prevalentHyp1] 0.813428897956678\n\\item[education] -0.78938090297993\n\\item[currentSmoker1] 0.722185592837597\n\\item[heartRate] -0.441675627298499\n\\item[glucose] 0.181850341244489\n\\item[BPMeds1] -0.124245967615015\n\\end{description*}\n",
            "text/plain": [
              "             age            sysBP          gender1        diabetes1 \n",
              "       6.6021898        3.2694201        2.6675335        1.8806728 \n",
              "         totChol       cigsPerDay prevalentStroke1              BMI \n",
              "       1.8014545        1.6082390        1.5397098        1.0567742 \n",
              "           diaBP    prevalentHyp1        education   currentSmoker1 \n",
              "      -0.9596969        0.8134289       -0.7893809        0.7221856 \n",
              "       heartRate          glucose          BPMeds1 \n",
              "      -0.4416756        0.1818503       -0.1242460 "
            ]
          },
          "metadata": {}
        },
        {
          "output_type": "display_data",
          "data": {
            "text/html": [
              "<table class=\"dataframe\">\n",
              "<caption>A data.frame: 10 × 6</caption>\n",
              "<thead>\n",
              "\t<tr><th></th><th scope=col>gender</th><th scope=col>age</th><th scope=col>diabetes</th><th scope=col>totChol</th><th scope=col>sysBP</th><th scope=col>TenYearCHD</th></tr>\n",
              "\t<tr><th></th><th scope=col>&lt;fct&gt;</th><th scope=col>&lt;int&gt;</th><th scope=col>&lt;fct&gt;</th><th scope=col>&lt;int&gt;</th><th scope=col>&lt;dbl&gt;</th><th scope=col>&lt;fct&gt;</th></tr>\n",
              "</thead>\n",
              "<tbody>\n",
              "\t<tr><th scope=row>1</th><td>0</td><td>36</td><td>0</td><td>188</td><td>112</td><td>0</td></tr>\n",
              "\t<tr><th scope=row>2</th><td>0</td><td>61</td><td>0</td><td>290</td><td>178</td><td>0</td></tr>\n",
              "\t<tr><th scope=row>3</th><td>0</td><td>48</td><td>0</td><td>211</td><td>149</td><td>0</td></tr>\n",
              "\t<tr><th scope=row>4</th><td>0</td><td>60</td><td>0</td><td>212</td><td>146</td><td>1</td></tr>\n",
              "\t<tr><th scope=row>5</th><td>0</td><td>43</td><td>0</td><td>213</td><td>113</td><td>0</td></tr>\n",
              "\t<tr><th scope=row>6</th><td>0</td><td>51</td><td>0</td><td>284</td><td>132</td><td>1</td></tr>\n",
              "\t<tr><th scope=row>7</th><td>1</td><td>58</td><td>0</td><td>220</td><td>129</td><td>1</td></tr>\n",
              "\t<tr><th scope=row>8</th><td>0</td><td>61</td><td>0</td><td>245</td><td>140</td><td>1</td></tr>\n",
              "\t<tr><th scope=row>9</th><td>0</td><td>42</td><td>0</td><td>190</td><td>108</td><td>0</td></tr>\n",
              "\t<tr><th scope=row>10</th><td>0</td><td>63</td><td>0</td><td>306</td><td>195</td><td>1</td></tr>\n",
              "</tbody>\n",
              "</table>\n"
            ],
            "text/markdown": "\nA data.frame: 10 × 6\n\n| <!--/--> | gender &lt;fct&gt; | age &lt;int&gt; | diabetes &lt;fct&gt; | totChol &lt;int&gt; | sysBP &lt;dbl&gt; | TenYearCHD &lt;fct&gt; |\n|---|---|---|---|---|---|---|\n| 1 | 0 | 36 | 0 | 188 | 112 | 0 |\n| 2 | 0 | 61 | 0 | 290 | 178 | 0 |\n| 3 | 0 | 48 | 0 | 211 | 149 | 0 |\n| 4 | 0 | 60 | 0 | 212 | 146 | 1 |\n| 5 | 0 | 43 | 0 | 213 | 113 | 0 |\n| 6 | 0 | 51 | 0 | 284 | 132 | 1 |\n| 7 | 1 | 58 | 0 | 220 | 129 | 1 |\n| 8 | 0 | 61 | 0 | 245 | 140 | 1 |\n| 9 | 0 | 42 | 0 | 190 | 108 | 0 |\n| 10 | 0 | 63 | 0 | 306 | 195 | 1 |\n\n",
            "text/latex": "A data.frame: 10 × 6\n\\begin{tabular}{r|llllll}\n  & gender & age & diabetes & totChol & sysBP & TenYearCHD\\\\\n  & <fct> & <int> & <fct> & <int> & <dbl> & <fct>\\\\\n\\hline\n\t1 & 0 & 36 & 0 & 188 & 112 & 0\\\\\n\t2 & 0 & 61 & 0 & 290 & 178 & 0\\\\\n\t3 & 0 & 48 & 0 & 211 & 149 & 0\\\\\n\t4 & 0 & 60 & 0 & 212 & 146 & 1\\\\\n\t5 & 0 & 43 & 0 & 213 & 113 & 0\\\\\n\t6 & 0 & 51 & 0 & 284 & 132 & 1\\\\\n\t7 & 1 & 58 & 0 & 220 & 129 & 1\\\\\n\t8 & 0 & 61 & 0 & 245 & 140 & 1\\\\\n\t9 & 0 & 42 & 0 & 190 & 108 & 0\\\\\n\t10 & 0 & 63 & 0 & 306 & 195 & 1\\\\\n\\end{tabular}\n",
            "text/plain": [
              "   gender age diabetes totChol sysBP TenYearCHD\n",
              "1  0      36  0        188     112   0         \n",
              "2  0      61  0        290     178   0         \n",
              "3  0      48  0        211     149   0         \n",
              "4  0      60  0        212     146   1         \n",
              "5  0      43  0        213     113   0         \n",
              "6  0      51  0        284     132   1         \n",
              "7  1      58  0        220     129   1         \n",
              "8  0      61  0        245     140   1         \n",
              "9  0      42  0        190     108   0         \n",
              "10 0      63  0        306     195   1         "
            ]
          },
          "metadata": {}
        },
        {
          "output_type": "display_data",
          "data": {
            "text/plain": [
              "plot without title"
            ],
            "image/png": "[encoded data removed]"
          },
          "metadata": {
            "image/png": {
              "width": 420,
              "height": 420
            }
          }
        }
      ]
    },
    {
      "cell_type": "code",
      "source": [
        "glm(TenYearCHD~.,data=heart_data2,family=binomial(logit))->logmodel2\n",
        "summary(logmodel2)\n",
        "logmodel2$coefficients\n",
        "heart_data1$TenYearCHDnew2<- logmodel2$fitted.values\n",
        "head(heart_data1[c(\"TenYearCHD\",\"TenYearCHDnew2\")], 10)\n",
        "tail(heart_data1[c(\"TenYearCHD\",\"TenYearCHDnew2\")], 10)\n"
      ],
      "metadata": {
        "colab": {
          "base_uri": "https://localhost:8080/",
          "height": 1000
        },
        "id": "eJS-FDe7lBMt",
        "outputId": "bf080015-c661-4a2f-b63d-f7d6ba96f0e9"
      },
      "execution_count": 50,
      "outputs": [
        {
          "output_type": "display_data",
          "data": {
            "text/plain": [
              "\n",
              "Call:\n",
              "glm(formula = TenYearCHD ~ ., family = binomial(logit), data = heart_data2)\n",
              "\n",
              "Deviance Residuals: \n",
              "    Min       1Q   Median       3Q      Max  \n",
              "-1.9956  -0.8380  -0.5878   1.0817   2.5351  \n",
              "\n",
              "Coefficients:\n",
              "             Estimate Std. Error z value Pr(>|z|)    \n",
              "(Intercept) -7.120709   0.603814 -11.793  < 2e-16 ***\n",
              "gender1      0.508796   0.133814   3.802 0.000143 ***\n",
              "age          0.059049   0.008483   6.961 3.38e-12 ***\n",
              "diabetes1    1.036811   0.359559   2.884 0.003932 ** \n",
              "totChol      0.002829   0.001514   1.869 0.061676 .  \n",
              "sysBP        0.016843   0.002993   5.627 1.83e-08 ***\n",
              "---\n",
              "Signif. codes:  0 ‘***’ 0.001 ‘**’ 0.01 ‘*’ 0.05 ‘.’ 0.1 ‘ ’ 1\n",
              "\n",
              "(Dispersion parameter for binomial family taken to be 1)\n",
              "\n",
              "    Null deviance: 1555.5  on 1254  degrees of freedom\n",
              "Residual deviance: 1383.2  on 1249  degrees of freedom\n",
              "AIC: 1395.2\n",
              "\n",
              "Number of Fisher Scoring iterations: 4\n"
            ]
          },
          "metadata": {}
        },
        {
          "output_type": "display_data",
          "data": {
            "text/html": [
              "<style>\n",
              ".dl-inline {width: auto; margin:0; padding: 0}\n",
              ".dl-inline>dt, .dl-inline>dd {float: none; width: auto; display: inline-block}\n",
              ".dl-inline>dt::after {content: \":\\0020\"; padding-right: .5ex}\n",
              ".dl-inline>dt:not(:first-of-type) {padding-left: .5ex}\n",
              "</style><dl class=dl-inline><dt>(Intercept)</dt><dd>-7.12070906954075</dd><dt>gender1</dt><dd>0.508796197239536</dd><dt>age</dt><dd>0.0590487720578747</dd><dt>diabetes1</dt><dd>1.03681082521827</dd><dt>totChol</dt><dd>0.00282942556047827</dd><dt>sysBP</dt><dd>0.0168431355006109</dd></dl>\n"
            ],
            "text/markdown": "(Intercept)\n:   -7.12070906954075gender1\n:   0.508796197239536age\n:   0.0590487720578747diabetes1\n:   1.03681082521827totChol\n:   0.00282942556047827sysBP\n:   0.0168431355006109\n\n",
            "text/latex": "\\begin{description*}\n\\item[(Intercept)] -7.12070906954075\n\\item[gender1] 0.508796197239536\n\\item[age] 0.0590487720578747\n\\item[diabetes1] 1.03681082521827\n\\item[totChol] 0.00282942556047827\n\\item[sysBP] 0.0168431355006109\n\\end{description*}\n",
            "text/plain": [
              " (Intercept)      gender1          age    diabetes1      totChol        sysBP \n",
              "-7.120709070  0.508796197  0.059048772  1.036810825  0.002829426  0.016843136 "
            ]
          },
          "metadata": {}
        },
        {
          "output_type": "display_data",
          "data": {
            "text/html": [
              "<table class=\"dataframe\">\n",
              "<caption>A data.frame: 10 × 2</caption>\n",
              "<thead>\n",
              "\t<tr><th></th><th scope=col>TenYearCHD</th><th scope=col>TenYearCHDnew2</th></tr>\n",
              "\t<tr><th></th><th scope=col>&lt;fct&gt;</th><th scope=col>&lt;dbl&gt;</th></tr>\n",
              "</thead>\n",
              "<tbody>\n",
              "\t<tr><th scope=row>1</th><td>0</td><td>0.07066032</td></tr>\n",
              "\t<tr><th scope=row>2</th><td>0</td><td>0.57441258</td></tr>\n",
              "\t<tr><th scope=row>3</th><td>0</td><td>0.23510038</td></tr>\n",
              "\t<tr><th scope=row>4</th><td>1</td><td>0.37312194</td></tr>\n",
              "\t<tr><th scope=row>5</th><td>0</td><td>0.11148416</td></tr>\n",
              "\t<tr><th scope=row>6</th><td>1</td><td>0.25305760</td></tr>\n",
              "\t<tr><th scope=row>7</th><td>1</td><td>0.40327300</td></tr>\n",
              "\t<tr><th scope=row>8</th><td>1</td><td>0.38521151</td></tr>\n",
              "\t<tr><th scope=row>9</th><td>0</td><td>0.09245584</td></tr>\n",
              "\t<tr><th scope=row>10</th><td>1</td><td>0.67908701</td></tr>\n",
              "</tbody>\n",
              "</table>\n"
            ],
            "text/markdown": "\nA data.frame: 10 × 2\n\n| <!--/--> | TenYearCHD &lt;fct&gt; | TenYearCHDnew2 &lt;dbl&gt; |\n|---|---|---|\n| 1 | 0 | 0.07066032 |\n| 2 | 0 | 0.57441258 |\n| 3 | 0 | 0.23510038 |\n| 4 | 1 | 0.37312194 |\n| 5 | 0 | 0.11148416 |\n| 6 | 1 | 0.25305760 |\n| 7 | 1 | 0.40327300 |\n| 8 | 1 | 0.38521151 |\n| 9 | 0 | 0.09245584 |\n| 10 | 1 | 0.67908701 |\n\n",
            "text/latex": "A data.frame: 10 × 2\n\\begin{tabular}{r|ll}\n  & TenYearCHD & TenYearCHDnew2\\\\\n  & <fct> & <dbl>\\\\\n\\hline\n\t1 & 0 & 0.07066032\\\\\n\t2 & 0 & 0.57441258\\\\\n\t3 & 0 & 0.23510038\\\\\n\t4 & 1 & 0.37312194\\\\\n\t5 & 0 & 0.11148416\\\\\n\t6 & 1 & 0.25305760\\\\\n\t7 & 1 & 0.40327300\\\\\n\t8 & 1 & 0.38521151\\\\\n\t9 & 0 & 0.09245584\\\\\n\t10 & 1 & 0.67908701\\\\\n\\end{tabular}\n",
            "text/plain": [
              "   TenYearCHD TenYearCHDnew2\n",
              "1  0          0.07066032    \n",
              "2  0          0.57441258    \n",
              "3  0          0.23510038    \n",
              "4  1          0.37312194    \n",
              "5  0          0.11148416    \n",
              "6  1          0.25305760    \n",
              "7  1          0.40327300    \n",
              "8  1          0.38521151    \n",
              "9  0          0.09245584    \n",
              "10 1          0.67908701    "
            ]
          },
          "metadata": {}
        },
        {
          "output_type": "display_data",
          "data": {
            "text/html": [
              "<table class=\"dataframe\">\n",
              "<caption>A data.frame: 10 × 2</caption>\n",
              "<thead>\n",
              "\t<tr><th></th><th scope=col>TenYearCHD</th><th scope=col>TenYearCHDnew2</th></tr>\n",
              "\t<tr><th></th><th scope=col>&lt;fct&gt;</th><th scope=col>&lt;dbl&gt;</th></tr>\n",
              "</thead>\n",
              "<tbody>\n",
              "\t<tr><th scope=row>1246</th><td>0</td><td>0.07051876</td></tr>\n",
              "\t<tr><th scope=row>1247</th><td>1</td><td>0.55405304</td></tr>\n",
              "\t<tr><th scope=row>1248</th><td>1</td><td>0.43291187</td></tr>\n",
              "\t<tr><th scope=row>1249</th><td>0</td><td>0.21526322</td></tr>\n",
              "\t<tr><th scope=row>1250</th><td>1</td><td>0.68166350</td></tr>\n",
              "\t<tr><th scope=row>1251</th><td>0</td><td>0.13026965</td></tr>\n",
              "\t<tr><th scope=row>1252</th><td>0</td><td>0.10209164</td></tr>\n",
              "\t<tr><th scope=row>1253</th><td>1</td><td>0.32375180</td></tr>\n",
              "\t<tr><th scope=row>1254</th><td>0</td><td>0.34174502</td></tr>\n",
              "\t<tr><th scope=row>1255</th><td>0</td><td>0.30251586</td></tr>\n",
              "</tbody>\n",
              "</table>\n"
            ],
            "text/markdown": "\nA data.frame: 10 × 2\n\n| <!--/--> | TenYearCHD &lt;fct&gt; | TenYearCHDnew2 &lt;dbl&gt; |\n|---|---|---|\n| 1246 | 0 | 0.07051876 |\n| 1247 | 1 | 0.55405304 |\n| 1248 | 1 | 0.43291187 |\n| 1249 | 0 | 0.21526322 |\n| 1250 | 1 | 0.68166350 |\n| 1251 | 0 | 0.13026965 |\n| 1252 | 0 | 0.10209164 |\n| 1253 | 1 | 0.32375180 |\n| 1254 | 0 | 0.34174502 |\n| 1255 | 0 | 0.30251586 |\n\n",
            "text/latex": "A data.frame: 10 × 2\n\\begin{tabular}{r|ll}\n  & TenYearCHD & TenYearCHDnew2\\\\\n  & <fct> & <dbl>\\\\\n\\hline\n\t1246 & 0 & 0.07051876\\\\\n\t1247 & 1 & 0.55405304\\\\\n\t1248 & 1 & 0.43291187\\\\\n\t1249 & 0 & 0.21526322\\\\\n\t1250 & 1 & 0.68166350\\\\\n\t1251 & 0 & 0.13026965\\\\\n\t1252 & 0 & 0.10209164\\\\\n\t1253 & 1 & 0.32375180\\\\\n\t1254 & 0 & 0.34174502\\\\\n\t1255 & 0 & 0.30251586\\\\\n\\end{tabular}\n",
            "text/plain": [
              "     TenYearCHD TenYearCHDnew2\n",
              "1246 0          0.07051876    \n",
              "1247 1          0.55405304    \n",
              "1248 1          0.43291187    \n",
              "1249 0          0.21526322    \n",
              "1250 1          0.68166350    \n",
              "1251 0          0.13026965    \n",
              "1252 0          0.10209164    \n",
              "1253 1          0.32375180    \n",
              "1254 0          0.34174502    \n",
              "1255 0          0.30251586    "
            ]
          },
          "metadata": {}
        }
      ]
    },
    {
      "cell_type": "code",
      "source": [
        "install.packages('modEvA')"
      ],
      "metadata": {
        "colab": {
          "base_uri": "https://localhost:8080/"
        },
        "id": "jxhCra8SlnW1",
        "outputId": "71e9f904-a174-474b-8370-c8f616b00165"
      },
      "execution_count": null,
      "outputs": [
        {
          "output_type": "stream",
          "name": "stderr",
          "text": [
            "Installing package into ‘/usr/local/lib/R/site-library’\n",
            "(as ‘lib’ is unspecified)\n",
            "\n",
            "also installing the dependency ‘terra’\n",
            "\n",
            "\n"
          ]
        }
      ]
    },
    {
      "cell_type": "code",
      "source": [
        "varImp(logmodel2)\n",
        "#model comparison\n",
        "#anova test\n",
        "anova(model, logmodel2, test = \"Chisq\")\n",
        "#chisquare test\n",
        "library(modEvA)\n",
        "RsqGLM(logmodel2)\n",
        "#model Evaluation\n",
        "pred = heart_data1$TenYearCHDnew2 > 0.45\n",
        "tab<-table(heart_data1$TenYearCHD, pred)\n",
        "sum(diag(tab))/sum(tab)\n",
        "tab\n",
        "\n"
      ],
      "metadata": {
        "colab": {
          "base_uri": "https://localhost:8080/",
          "height": 1000
        },
        "id": "HSUwyFRpljsL",
        "outputId": "b3234b7e-8d96-41a2-e392-d7ac41d68891"
      },
      "execution_count": 51,
      "outputs": [
        {
          "output_type": "display_data",
          "data": {
            "text/html": [
              "<style>\n",
              ".dl-inline {width: auto; margin:0; padding: 0}\n",
              ".dl-inline>dt, .dl-inline>dd {float: none; width: auto; display: inline-block}\n",
              ".dl-inline>dt::after {content: \":\\0020\"; padding-right: .5ex}\n",
              ".dl-inline>dt:not(:first-of-type) {padding-left: .5ex}\n",
              "</style><dl class=dl-inline><dt>age</dt><dd>6.96109440699792</dd><dt>sysBP</dt><dd>5.62698787817193</dd><dt>gender1</dt><dd>3.80227301586462</dd><dt>diabetes1</dt><dd>2.88355913507856</dd><dt>totChol</dt><dd>1.86861855708378</dd></dl>\n"
            ],
            "text/markdown": "age\n:   6.96109440699792sysBP\n:   5.62698787817193gender1\n:   3.80227301586462diabetes1\n:   2.88355913507856totChol\n:   1.86861855708378\n\n",
            "text/latex": "\\begin{description*}\n\\item[age] 6.96109440699792\n\\item[sysBP] 5.62698787817193\n\\item[gender1] 3.80227301586462\n\\item[diabetes1] 2.88355913507856\n\\item[totChol] 1.86861855708378\n\\end{description*}\n",
            "text/plain": [
              "      age     sysBP   gender1 diabetes1   totChol \n",
              " 6.961094  5.626988  3.802273  2.883559  1.868619 "
            ]
          },
          "metadata": {}
        },
        {
          "output_type": "display_data",
          "data": {
            "text/html": [
              "<table class=\"dataframe\">\n",
              "<caption>A anova: 2 × 5</caption>\n",
              "<thead>\n",
              "\t<tr><th></th><th scope=col>Resid. Df</th><th scope=col>Resid. Dev</th><th scope=col>Df</th><th scope=col>Deviance</th><th scope=col>Pr(&gt;Chi)</th></tr>\n",
              "\t<tr><th></th><th scope=col>&lt;dbl&gt;</th><th scope=col>&lt;dbl&gt;</th><th scope=col>&lt;dbl&gt;</th><th scope=col>&lt;dbl&gt;</th><th scope=col>&lt;dbl&gt;</th></tr>\n",
              "</thead>\n",
              "<tbody>\n",
              "\t<tr><th scope=row>1</th><td>1239</td><td>1367.390</td><td> NA</td><td>       NA</td><td>       NA</td></tr>\n",
              "\t<tr><th scope=row>2</th><td>1249</td><td>1383.209</td><td>-10</td><td>-15.81922</td><td>0.1049257</td></tr>\n",
              "</tbody>\n",
              "</table>\n"
            ],
            "text/markdown": "\nA anova: 2 × 5\n\n| <!--/--> | Resid. Df &lt;dbl&gt; | Resid. Dev &lt;dbl&gt; | Df &lt;dbl&gt; | Deviance &lt;dbl&gt; | Pr(&gt;Chi) &lt;dbl&gt; |\n|---|---|---|---|---|---|\n| 1 | 1239 | 1367.390 |  NA |        NA |        NA |\n| 2 | 1249 | 1383.209 | -10 | -15.81922 | 0.1049257 |\n\n",
            "text/latex": "A anova: 2 × 5\n\\begin{tabular}{r|lllll}\n  & Resid. Df & Resid. Dev & Df & Deviance & Pr(>Chi)\\\\\n  & <dbl> & <dbl> & <dbl> & <dbl> & <dbl>\\\\\n\\hline\n\t1 & 1239 & 1367.390 &  NA &        NA &        NA\\\\\n\t2 & 1249 & 1383.209 & -10 & -15.81922 & 0.1049257\\\\\n\\end{tabular}\n",
            "text/plain": [
              "  Resid. Df Resid. Dev Df  Deviance  Pr(>Chi) \n",
              "1 1239      1367.390    NA        NA        NA\n",
              "2 1249      1383.209   -10 -15.81922 0.1049257"
            ]
          },
          "metadata": {}
        },
        {
          "output_type": "display_data",
          "data": {
            "text/plain": [
              "plot without title"
            ],
            "image/png": "[encoded data removed]"
          },
          "metadata": {
            "image/png": {
              "width": 420,
              "height": 420
            }
          }
        },
        {
          "output_type": "display_data",
          "data": {
            "text/html": [
              "<dl>\n",
              "\t<dt>$CoxSnell</dt>\n",
              "\t\t<dd>0.128248940089273</dd>\n",
              "\t<dt>$Nagelkerke</dt>\n",
              "\t\t<dd>0.180519169903933</dd>\n",
              "\t<dt>$McFadden</dt>\n",
              "\t\t<dd>0.110739286437341</dd>\n",
              "\t<dt>$Tjur</dt>\n",
              "\t\t<dd>0.135153265122206</dd>\n",
              "\t<dt>$sqPearson</dt>\n",
              "\t\t<dd>0.135231938707118</dd>\n",
              "</dl>\n"
            ],
            "text/markdown": "$CoxSnell\n:   0.128248940089273\n$Nagelkerke\n:   0.180519169903933\n$McFadden\n:   0.110739286437341\n$Tjur\n:   0.135153265122206\n$sqPearson\n:   0.135231938707118\n\n\n",
            "text/latex": "\\begin{description}\n\\item[\\$CoxSnell] 0.128248940089273\n\\item[\\$Nagelkerke] 0.180519169903933\n\\item[\\$McFadden] 0.110739286437341\n\\item[\\$Tjur] 0.135153265122206\n\\item[\\$sqPearson] 0.135231938707118\n\\end{description}\n",
            "text/plain": [
              "$CoxSnell\n",
              "[1] 0.1282489\n",
              "\n",
              "$Nagelkerke\n",
              "[1] 0.1805192\n",
              "\n",
              "$McFadden\n",
              "[1] 0.1107393\n",
              "\n",
              "$Tjur\n",
              "[1] 0.1351533\n",
              "\n",
              "$sqPearson\n",
              "[1] 0.1352319\n"
            ]
          },
          "metadata": {}
        },
        {
          "output_type": "display_data",
          "data": {
            "text/html": [
              "0.706772908366534"
            ],
            "text/markdown": "0.706772908366534",
            "text/latex": "0.706772908366534",
            "text/plain": [
              "[1] 0.7067729"
            ]
          },
          "metadata": {}
        },
        {
          "output_type": "display_data",
          "data": {
            "text/plain": [
              "   pred\n",
              "    FALSE TRUE\n",
              "  0   749  116\n",
              "  1   252  138"
            ]
          },
          "metadata": {}
        },
        {
          "output_type": "display_data",
          "data": {
            "text/plain": [
              "plot without title"
            ],
            "image/png": "[encoded data removed]"
          },
          "metadata": {
            "image/png": {
              "width": 420,
              "height": 420
            }
          }
        }
      ]
    },
    {
      "cell_type": "code",
      "source": [
        "#model Prediction\n",
        "test = read.csv('/content/framing_new_test.csv')\n",
        "head(test, 5)\n",
        "test[,col_names] <- lapply(test[,col_names], factor)\n",
        "test[c(\"gender\",\"age\",\"diabetes\",\"totChol\",\"sysBP\",\"totChol\")]->testdata\n",
        "pred2 <- predict(logmodel2,testdata, type = \"response\")\n",
        "head(pred2,5)\n",
        "prediction <- ifelse(pred2 >0.45, 1, 0)\n",
        "prediction -> test$Prediction\n",
        "head(test[c(\"TenYearCHD\",\"Prediction\")], 10)\n",
        "confusion_matrix <- table(test$TenYearCHD,test$Prediction)\n",
        "confusion_matrix\n",
        "sum(diag(confusion_matrix))/sum(confusion_matrix)\n",
        "\n"
      ],
      "metadata": {
        "colab": {
          "base_uri": "https://localhost:8080/",
          "height": 791
        },
        "id": "Os7qUiwoll_l",
        "outputId": "0eed1912-dff3-41a2-a8c2-0e76fac5c80e"
      },
      "execution_count": 52,
      "outputs": [
        {
          "output_type": "display_data",
          "data": {
            "text/html": [
              "<table class=\"dataframe\">\n",
              "<caption>A data.frame: 5 × 16</caption>\n",
              "<thead>\n",
              "\t<tr><th></th><th scope=col>gender</th><th scope=col>age</th><th scope=col>education</th><th scope=col>currentSmoker</th><th scope=col>cigsPerDay</th><th scope=col>BPMeds</th><th scope=col>prevalentStroke</th><th scope=col>prevalentHyp</th><th scope=col>diabetes</th><th scope=col>totChol</th><th scope=col>sysBP</th><th scope=col>diaBP</th><th scope=col>BMI</th><th scope=col>heartRate</th><th scope=col>glucose</th><th scope=col>TenYearCHD</th></tr>\n",
              "\t<tr><th></th><th scope=col>&lt;int&gt;</th><th scope=col>&lt;int&gt;</th><th scope=col>&lt;int&gt;</th><th scope=col>&lt;int&gt;</th><th scope=col>&lt;int&gt;</th><th scope=col>&lt;int&gt;</th><th scope=col>&lt;int&gt;</th><th scope=col>&lt;int&gt;</th><th scope=col>&lt;int&gt;</th><th scope=col>&lt;int&gt;</th><th scope=col>&lt;dbl&gt;</th><th scope=col>&lt;dbl&gt;</th><th scope=col>&lt;dbl&gt;</th><th scope=col>&lt;int&gt;</th><th scope=col>&lt;int&gt;</th><th scope=col>&lt;int&gt;</th></tr>\n",
              "</thead>\n",
              "<tbody>\n",
              "\t<tr><th scope=row>1</th><td>1</td><td>52</td><td>1</td><td>0</td><td> 0</td><td>0</td><td>0</td><td>0</td><td>0</td><td>215</td><td>129</td><td> 80</td><td>29.29</td><td>70</td><td>87</td><td>0</td></tr>\n",
              "\t<tr><th scope=row>2</th><td>1</td><td>38</td><td>1</td><td>0</td><td> 0</td><td>0</td><td>0</td><td>0</td><td>0</td><td>221</td><td>130</td><td> 87</td><td>26.43</td><td>72</td><td>55</td><td>0</td></tr>\n",
              "\t<tr><th scope=row>3</th><td>0</td><td>54</td><td>2</td><td>1</td><td>10</td><td>0</td><td>0</td><td>1</td><td>0</td><td>246</td><td>153</td><td> 80</td><td>37.30</td><td>92</td><td>74</td><td>0</td></tr>\n",
              "\t<tr><th scope=row>4</th><td>0</td><td>50</td><td>1</td><td>0</td><td> 0</td><td>0</td><td>0</td><td>1</td><td>0</td><td>240</td><td>163</td><td>105</td><td>31.37</td><td>89</td><td>75</td><td>0</td></tr>\n",
              "\t<tr><th scope=row>5</th><td>1</td><td>46</td><td>2</td><td>1</td><td>20</td><td>0</td><td>0</td><td>0</td><td>0</td><td>179</td><td>111</td><td> 80</td><td>20.87</td><td>72</td><td>76</td><td>0</td></tr>\n",
              "</tbody>\n",
              "</table>\n"
            ],
            "text/markdown": "\nA data.frame: 5 × 16\n\n| <!--/--> | gender &lt;int&gt; | age &lt;int&gt; | education &lt;int&gt; | currentSmoker &lt;int&gt; | cigsPerDay &lt;int&gt; | BPMeds &lt;int&gt; | prevalentStroke &lt;int&gt; | prevalentHyp &lt;int&gt; | diabetes &lt;int&gt; | totChol &lt;int&gt; | sysBP &lt;dbl&gt; | diaBP &lt;dbl&gt; | BMI &lt;dbl&gt; | heartRate &lt;int&gt; | glucose &lt;int&gt; | TenYearCHD &lt;int&gt; |\n|---|---|---|---|---|---|---|---|---|---|---|---|---|---|---|---|---|\n| 1 | 1 | 52 | 1 | 0 |  0 | 0 | 0 | 0 | 0 | 215 | 129 |  80 | 29.29 | 70 | 87 | 0 |\n| 2 | 1 | 38 | 1 | 0 |  0 | 0 | 0 | 0 | 0 | 221 | 130 |  87 | 26.43 | 72 | 55 | 0 |\n| 3 | 0 | 54 | 2 | 1 | 10 | 0 | 0 | 1 | 0 | 246 | 153 |  80 | 37.30 | 92 | 74 | 0 |\n| 4 | 0 | 50 | 1 | 0 |  0 | 0 | 0 | 1 | 0 | 240 | 163 | 105 | 31.37 | 89 | 75 | 0 |\n| 5 | 1 | 46 | 2 | 1 | 20 | 0 | 0 | 0 | 0 | 179 | 111 |  80 | 20.87 | 72 | 76 | 0 |\n\n",
            "text/latex": "A data.frame: 5 × 16\n\\begin{tabular}{r|llllllllllllllll}\n  & gender & age & education & currentSmoker & cigsPerDay & BPMeds & prevalentStroke & prevalentHyp & diabetes & totChol & sysBP & diaBP & BMI & heartRate & glucose & TenYearCHD\\\\\n  & <int> & <int> & <int> & <int> & <int> & <int> & <int> & <int> & <int> & <int> & <dbl> & <dbl> & <dbl> & <int> & <int> & <int>\\\\\n\\hline\n\t1 & 1 & 52 & 1 & 0 &  0 & 0 & 0 & 0 & 0 & 215 & 129 &  80 & 29.29 & 70 & 87 & 0\\\\\n\t2 & 1 & 38 & 1 & 0 &  0 & 0 & 0 & 0 & 0 & 221 & 130 &  87 & 26.43 & 72 & 55 & 0\\\\\n\t3 & 0 & 54 & 2 & 1 & 10 & 0 & 0 & 1 & 0 & 246 & 153 &  80 & 37.30 & 92 & 74 & 0\\\\\n\t4 & 0 & 50 & 1 & 0 &  0 & 0 & 0 & 1 & 0 & 240 & 163 & 105 & 31.37 & 89 & 75 & 0\\\\\n\t5 & 1 & 46 & 2 & 1 & 20 & 0 & 0 & 0 & 0 & 179 & 111 &  80 & 20.87 & 72 & 76 & 0\\\\\n\\end{tabular}\n",
            "text/plain": [
              "  gender age education currentSmoker cigsPerDay BPMeds prevalentStroke\n",
              "1 1      52  1         0              0         0      0              \n",
              "2 1      38  1         0              0         0      0              \n",
              "3 0      54  2         1             10         0      0              \n",
              "4 0      50  1         0              0         0      0              \n",
              "5 1      46  2         1             20         0      0              \n",
              "  prevalentHyp diabetes totChol sysBP diaBP BMI   heartRate glucose TenYearCHD\n",
              "1 0            0        215     129    80   29.29 70        87      0         \n",
              "2 0            0        221     130    87   26.43 72        55      0         \n",
              "3 1            0        246     153    80   37.30 92        74      0         \n",
              "4 1            0        240     163   105   31.37 89        75      0         \n",
              "5 0            0        179     111    80   20.87 72        76      0         "
            ]
          },
          "metadata": {}
        },
        {
          "output_type": "display_data",
          "data": {
            "text/html": [
              "<style>\n",
              ".dl-inline {width: auto; margin:0; padding: 0}\n",
              ".dl-inline>dt, .dl-inline>dd {float: none; width: auto; display: inline-block}\n",
              ".dl-inline>dt::after {content: \":\\0020\"; padding-right: .5ex}\n",
              ".dl-inline>dt:not(:first-of-type) {padding-left: .5ex}\n",
              "</style><dl class=dl-inline><dt>1</dt><dd>0.318584229962874</dd><dt>2</dt><dd>0.17463193869282</dd><dt>3</dt><dd>0.340955978531505</dd><dt>4</dt><dd>0.322178716988951</dd><dt>5</dt><dd>0.17951834602415</dd></dl>\n"
            ],
            "text/markdown": "1\n:   0.3185842299628742\n:   0.174631938692823\n:   0.3409559785315054\n:   0.3221787169889515\n:   0.17951834602415\n\n",
            "text/latex": "\\begin{description*}\n\\item[1] 0.318584229962874\n\\item[2] 0.17463193869282\n\\item[3] 0.340955978531505\n\\item[4] 0.322178716988951\n\\item[5] 0.17951834602415\n\\end{description*}\n",
            "text/plain": [
              "        1         2         3         4         5 \n",
              "0.3185842 0.1746319 0.3409560 0.3221787 0.1795183 "
            ]
          },
          "metadata": {}
        },
        {
          "output_type": "display_data",
          "data": {
            "text/html": [
              "<table class=\"dataframe\">\n",
              "<caption>A data.frame: 10 × 2</caption>\n",
              "<thead>\n",
              "\t<tr><th></th><th scope=col>TenYearCHD</th><th scope=col>Prediction</th></tr>\n",
              "\t<tr><th></th><th scope=col>&lt;fct&gt;</th><th scope=col>&lt;dbl&gt;</th></tr>\n",
              "</thead>\n",
              "<tbody>\n",
              "\t<tr><th scope=row>1</th><td>0</td><td>0</td></tr>\n",
              "\t<tr><th scope=row>2</th><td>0</td><td>0</td></tr>\n",
              "\t<tr><th scope=row>3</th><td>0</td><td>0</td></tr>\n",
              "\t<tr><th scope=row>4</th><td>0</td><td>0</td></tr>\n",
              "\t<tr><th scope=row>5</th><td>0</td><td>0</td></tr>\n",
              "\t<tr><th scope=row>6</th><td>0</td><td>1</td></tr>\n",
              "\t<tr><th scope=row>7</th><td>1</td><td>1</td></tr>\n",
              "\t<tr><th scope=row>8</th><td>0</td><td>1</td></tr>\n",
              "\t<tr><th scope=row>9</th><td>0</td><td>0</td></tr>\n",
              "\t<tr><th scope=row>10</th><td>0</td><td>0</td></tr>\n",
              "</tbody>\n",
              "</table>\n"
            ],
            "text/markdown": "\nA data.frame: 10 × 2\n\n| <!--/--> | TenYearCHD &lt;fct&gt; | Prediction &lt;dbl&gt; |\n|---|---|---|\n| 1 | 0 | 0 |\n| 2 | 0 | 0 |\n| 3 | 0 | 0 |\n| 4 | 0 | 0 |\n| 5 | 0 | 0 |\n| 6 | 0 | 1 |\n| 7 | 1 | 1 |\n| 8 | 0 | 1 |\n| 9 | 0 | 0 |\n| 10 | 0 | 0 |\n\n",
            "text/latex": "A data.frame: 10 × 2\n\\begin{tabular}{r|ll}\n  & TenYearCHD & Prediction\\\\\n  & <fct> & <dbl>\\\\\n\\hline\n\t1 & 0 & 0\\\\\n\t2 & 0 & 0\\\\\n\t3 & 0 & 0\\\\\n\t4 & 0 & 0\\\\\n\t5 & 0 & 0\\\\\n\t6 & 0 & 1\\\\\n\t7 & 1 & 1\\\\\n\t8 & 0 & 1\\\\\n\t9 & 0 & 0\\\\\n\t10 & 0 & 0\\\\\n\\end{tabular}\n",
            "text/plain": [
              "   TenYearCHD Prediction\n",
              "1  0          0         \n",
              "2  0          0         \n",
              "3  0          0         \n",
              "4  0          0         \n",
              "5  0          0         \n",
              "6  0          1         \n",
              "7  1          1         \n",
              "8  0          1         \n",
              "9  0          0         \n",
              "10 0          0         "
            ]
          },
          "metadata": {}
        },
        {
          "output_type": "display_data",
          "data": {
            "text/plain": [
              "   \n",
              "      0   1\n",
              "  0 327  45\n",
              "  1  99  68"
            ]
          },
          "metadata": {}
        },
        {
          "output_type": "display_data",
          "data": {
            "text/html": [
              "0.732838589981447"
            ],
            "text/markdown": "0.732838589981447",
            "text/latex": "0.732838589981447",
            "text/plain": [
              "[1] 0.7328386"
            ]
          },
          "metadata": {}
        }
      ]
    }
  ]
}